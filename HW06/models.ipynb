{
 "cells": [
  {
   "cell_type": "markdown",
   "metadata": {},
   "source": [
    "# HW06"
   ]
  },
  {
   "cell_type": "code",
   "execution_count": 1,
   "metadata": {},
   "outputs": [],
   "source": [
    "import numpy as np\n",
    "import pandas as pd\n",
    "\n",
    "from sklearn.model_selection import train_test_split\n",
    "from sklearn.metrics import accuracy_score\n",
    "from sklearn.metrics import confusion_matrix\n",
    "from sklearn.metrics import classification_report\n",
    "\n",
    "from sklearn.linear_model import LogisticRegression\n",
    "from sklearn.linear_model import SGDClassifier\n",
    "from sklearn.ensemble import RandomForestClassifier\n",
    "from sklearn.ensemble import GradientBoostingClassifier\n",
    "from sklearn.tree import DecisionTreeClassifier\n",
    "from sklearn.neighbors import KNeighborsClassifier\n",
    "from sklearn.naive_bayes import GaussianNB\n",
    "from sklearn.svm import LinearSVC\n",
    "from sklearn.svm import NuSVC\n",
    "from sklearn.svm import OneClassSVM\n",
    "from sklearn.svm import SVC\n",
    "\n",
    "from sklearn.model_selection import GridSearchCV\n",
    "from sklearn.model_selection import RandomizedSearchCV\n",
    "\n",
    "\n",
    "from sklearn.preprocessing import StandardScaler\n",
    "from sklearn.preprocessing import LabelEncoder\n",
    "\n",
    "from tqdm import tqdm"
   ]
  },
  {
   "cell_type": "markdown",
   "metadata": {},
   "source": [
    "## Predict Country with Client IP\n",
    "\n",
    "### 1. Data Preprocessing\n",
    "\n",
    "At this stage, we are loading the data into a dataframe and then dropping the columns that are not needed for the model."
   ]
  },
  {
   "cell_type": "code",
   "execution_count": 2,
   "metadata": {},
   "outputs": [
    {
     "name": "stdout",
     "output_type": "stream",
     "text": [
      "                  country     ip\n",
      "0  Bosnia and Herzegovina   3156\n",
      "1                  Gambia  42180\n",
      "2                  Gambia  42180\n",
      "3            Sierra Leone  29692\n",
      "4            Sierra Leone  29692\n"
     ]
    }
   ],
   "source": [
    "# load request.csv file into a dataframe\n",
    "df = pd.read_csv('request.csv', on_bad_lines='skip')\n",
    "\n",
    "# drop columns 0,1,2,3,6,7,8\n",
    "df.drop(df.columns[[0,1,2,3,6,7,8]], axis=1, inplace=True)\n",
    "\n",
    "# add headers to dataframe; first column is 'country', second column is 'ip'\n",
    "df.columns = ['country', 'ip']\n",
    "\n",
    "# encode ip as integer\n",
    "le = LabelEncoder()\n",
    "df['ip'] = le.fit_transform(df['ip'])\n",
    "\n",
    "# print first 5 rows\n",
    "print(df.head())"
   ]
  },
  {
   "cell_type": "markdown",
   "metadata": {},
   "source": [
    "### 2. Model Selection\n",
    "\n",
    "We split into train and test sets. Our goal is to predict the country give an ip."
   ]
  },
  {
   "cell_type": "code",
   "execution_count": 3,
   "metadata": {},
   "outputs": [
    {
     "name": "stdout",
     "output_type": "stream",
     "text": [
      "random_forest trained.\n",
      "Accuracy: 0.6681310912488007\n",
      "linear_svc trained.\n",
      "Accuracy: 0.017926576781295764\n",
      "nu_svc trained.\n",
      "Accuracy: 0.19153663586325304\n",
      "one_class_svm trained.\n",
      "Accuracy: 0.002575367368580518\n",
      "svc trained.\n",
      "Accuracy: 0.1285663788314902\n"
     ]
    }
   ],
   "source": [
    "# split into train and test sets\n",
    "train, test = train_test_split(df, test_size=0.2)\n",
    "\n",
    "# split train and test sets into X and y\n",
    "X_train = train.drop('country', axis=1)\n",
    "y_train = train['country']\n",
    "\n",
    "X_test = test.drop('country', axis=1)\n",
    "y_test = test['country']\n",
    "\n",
    "# encode labels\n",
    "encoder = LabelEncoder()\n",
    "\n",
    "y_train = encoder.fit_transform(y_train)\n",
    "y_test = encoder.fit_transform(y_test)\n",
    "\n",
    "# scale features\n",
    "scaler = StandardScaler()\n",
    "\n",
    "X_train = scaler.fit_transform(X_train)\n",
    "X_test = scaler.fit_transform(X_test)\n",
    "\n",
    "# try different models which are good for classification\n",
    "models = {\n",
    "    'logistic_regression': LogisticRegression(),\n",
    "    'random_forest': RandomForestClassifier(),\n",
    "    # 'gradient_boosting': GradientBoostingClassifier(),\n",
    "    # 'decision_tree': DecisionTreeClassifier(),\n",
    "    # 'knn': KNeighborsClassifier(),\n",
    "    # 'gaussian_nb': GaussianNB(),\n",
    "    # 'linear_svc': LinearSVC(),\n",
    "    # 'nu_svc': NuSVC(),\n",
    "    # 'one_class_svm': OneClassSVM(),\n",
    "    # 'svc': SVC()\n",
    "}\n",
    "\n",
    "# train and test models\n",
    "for name, model in models.items():\n",
    "    model.fit(X_train, y_train)\n",
    "    print(name + ' trained.')\n",
    "    y_pred = model.predict(X_test)\n",
    "    print('Accuracy: ' + str(accuracy_score(y_test, y_pred)))"
   ]
  },
  {
   "cell_type": "markdown",
   "metadata": {},
   "source": [
    "### 3. Model Optimization\n",
    "\n",
    "Random Forest is giving the best result, with an accuracy of 66.8%. We will try to optimize it by tuning the hyperparameters."
   ]
  },
  {
   "cell_type": "code",
   "execution_count": 6,
   "metadata": {},
   "outputs": [
    {
     "name": "stdout",
     "output_type": "stream",
     "text": [
      "Fitting 3 folds for each of 100 candidates, totalling 300 fits\n"
     ]
    },
    {
     "name": "stderr",
     "output_type": "stream",
     "text": [
      "/Users/phillip/opt/anaconda3/lib/python3.8/site-packages/sklearn/ensemble/_forest.py:427: FutureWarning: `max_features='auto'` has been deprecated in 1.1 and will be removed in 1.3. To keep the past behaviour, explicitly set `max_features='sqrt'` or remove this parameter as it is also the default value for RandomForestClassifiers and ExtraTreesClassifiers.\n",
      "  warn(\n",
      "/Users/phillip/opt/anaconda3/lib/python3.8/site-packages/sklearn/ensemble/_forest.py:427: FutureWarning: `max_features='auto'` has been deprecated in 1.1 and will be removed in 1.3. To keep the past behaviour, explicitly set `max_features='sqrt'` or remove this parameter as it is also the default value for RandomForestClassifiers and ExtraTreesClassifiers.\n",
      "  warn(\n",
      "/Users/phillip/opt/anaconda3/lib/python3.8/site-packages/sklearn/ensemble/_forest.py:427: FutureWarning: `max_features='auto'` has been deprecated in 1.1 and will be removed in 1.3. To keep the past behaviour, explicitly set `max_features='sqrt'` or remove this parameter as it is also the default value for RandomForestClassifiers and ExtraTreesClassifiers.\n",
      "  warn(\n",
      "/Users/phillip/opt/anaconda3/lib/python3.8/site-packages/sklearn/ensemble/_forest.py:427: FutureWarning: `max_features='auto'` has been deprecated in 1.1 and will be removed in 1.3. To keep the past behaviour, explicitly set `max_features='sqrt'` or remove this parameter as it is also the default value for RandomForestClassifiers and ExtraTreesClassifiers.\n",
      "  warn(\n"
     ]
    }
   ],
   "source": [
    "# use random search to find best parameters for random forest\n",
    "\n",
    "# number of trees in random forest\n",
    "n_estimators = [int(x) for x in np.linspace(start=200, stop=2000, num=10)]\n",
    "\n",
    "# number of features to consider at every split\n",
    "max_features = ['sqrt', 'log2']\n",
    "\n",
    "# maximum number of levels in tree\n",
    "max_depth = [int(x) for x in np.linspace(10, 110, num=11)]\n",
    "\n",
    "# minimum number of samples required to split a node\n",
    "min_samples_split = [2, 5, 10]\n",
    "\n",
    "# minimum number of samples required at each leaf node\n",
    "min_samples_leaf = [1, 2, 4]\n",
    "\n",
    "# method of selecting samples for training each tree\n",
    "bootstrap = [True, False]\n",
    "\n",
    "# create random grid\n",
    "random_grid = {\n",
    "    'n_estimators': n_estimators,\n",
    "    'max_features': max_features,\n",
    "    'max_depth': max_depth,\n",
    "    'min_samples_split': min_samples_split,\n",
    "    'min_samples_leaf': min_samples_leaf,\n",
    "    'bootstrap': bootstrap\n",
    "}\n",
    "\n",
    "# use random grid to search for best hyperparameters\n",
    "# first create base model to tune\n",
    "rf = RandomForestClassifier()\n",
    "\n",
    "# random search of parameters, using 3 fold cross validation\n",
    "# search across 100 different combinations, and use all available cores\n",
    "rf_random = RandomizedSearchCV(estimator=rf, param_distributions=random_grid, n_iter=100, cv=3, verbose=2, random_state=42, n_jobs=-1)\n",
    "\n",
    "# fit the random search model\n",
    "rf_random.fit(X_train, y_train)\n",
    "\n",
    "# print best parameters\n",
    "print(rf_random.best_params_)"
   ]
  }
 ],
 "metadata": {
  "kernelspec": {
   "display_name": "base",
   "language": "python",
   "name": "python3"
  },
  "language_info": {
   "codemirror_mode": {
    "name": "ipython",
    "version": 3
   },
   "file_extension": ".py",
   "mimetype": "text/x-python",
   "name": "python",
   "nbconvert_exporter": "python",
   "pygments_lexer": "ipython3",
   "version": "3.8.3"
  }
 },
 "nbformat": 4,
 "nbformat_minor": 2
}
